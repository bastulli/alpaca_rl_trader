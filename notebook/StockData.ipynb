{
 "cells": [
  {
   "cell_type": "code",
   "execution_count": null,
   "metadata": {},
   "outputs": [],
   "source": [
    "import requests\n",
    "import pandas as pd\n",
    "from datetime import datetime, timedelta\n",
    "from queue import Queue\n",
    "from scipy.stats import zscore\n",
    "from concurrent.futures import ThreadPoolExecutor"
   ]
  },
  {
   "cell_type": "code",
   "execution_count": null,
   "metadata": {},
   "outputs": [],
   "source": [
    "# Polygon API setup\n",
    "api_key = ''\n",
    "base_url = 'https://api.polygon.io/v2'"
   ]
  },
  {
   "cell_type": "code",
   "execution_count": null,
   "metadata": {},
   "outputs": [],
   "source": [
    "def get_sp500_symbols():\n",
    "    url = \"https://en.wikipedia.org/wiki/List_of_S%26P_500_companies\"\n",
    "    sp500_symbols = pd.read_html(url, header=0)[0]['Symbol'].tolist()\n",
    "    return sp500_symbols"
   ]
  },
  {
   "cell_type": "code",
   "execution_count": null,
   "metadata": {},
   "outputs": [],
   "source": [
    "symbols = get_sp500_symbols()"
   ]
  },
  {
   "cell_type": "code",
   "execution_count": null,
   "metadata": {},
   "outputs": [],
   "source": [
    "def get_dow30_symbols():\n",
    "    url = \"https://en.wikipedia.org/wiki/Dow_Jones_Industrial_Average\"\n",
    "    dow30_symbols = pd.read_html(url, header=0)[1]['Symbol'].tolist()\n",
    "    return dow30_symbols"
   ]
  },
  {
   "cell_type": "code",
   "execution_count": null,
   "metadata": {},
   "outputs": [],
   "source": [
    "# Example usage\n",
    "symbols = get_dow30_symbols()\n",
    "print(symbols)"
   ]
  },
  {
   "cell_type": "code",
   "execution_count": null,
   "metadata": {},
   "outputs": [],
   "source": [
    "import requests\n",
    "import pandas as pd\n",
    "\n",
    "def get_historical_sentiment(ticker, api_key, page=10):\n",
    "    url = f\"https://financialmodelingprep.com/api/v4/historical/social-sentiment?symbol={ticker}&apikey={api_key}&page={page}\"\n",
    "    \n",
    "    response = requests.get(url)\n",
    "    if response.status_code == 200:\n",
    "        data = response.json()\n",
    "        # Convert the data to a pandas DataFrame for easier handling\n",
    "        df = pd.DataFrame(data)\n",
    "        return df\n",
    "    else:\n",
    "        print(f\"Failed to fetch data: {response.status_code}\")\n",
    "        return None\n",
    "\n",
    "# Example usage\n",
    "api_key = \"\"  # Replace with your FMP API key\n",
    "ticker = \"NVDA\"\n",
    "df = get_historical_sentiment(ticker, api_key)\n",
    "print(df)\n"
   ]
  },
  {
   "cell_type": "code",
   "execution_count": null,
   "metadata": {},
   "outputs": [],
   "source": [
    "df.head()"
   ]
  },
  {
   "cell_type": "code",
   "execution_count": null,
   "metadata": {},
   "outputs": [],
   "source": [
    "df['stocktwitsSentiment'].plot(figsize=(15, 5), title=f\"StockTwits sentiment for {ticker}\")"
   ]
  },
  {
   "cell_type": "code",
   "execution_count": null,
   "metadata": {},
   "outputs": [],
   "source": [
    "# Define the function to fetch data for a single ticker\n",
    "def fetch_data_for_ticker(ticker, start_date, end_date, df):\n",
    "    attempts = 0\n",
    "    start = start_date\n",
    "    while start < end_date:\n",
    "        try:\n",
    "            start_str = start.strftime('%Y-%m-%d')\n",
    "            end_str = end_date.strftime('%Y-%m-%d')\n",
    "            print(f\"Fetching {ticker} data from {start_str} to {end_str}\")\n",
    "\n",
    "            response = requests.get(f\"{base_url}/aggs/ticker/{ticker}/range/1/day/{start_str}/{end_str}?apiKey={api_key}\")\n",
    "            response.raise_for_status()\n",
    "\n",
    "            data = response.json()['results']\n",
    "            for day in data:\n",
    "                date = datetime.fromtimestamp(day['t'] / 1000)\n",
    "                df.loc[(ticker, date), 'volume'] = day['v']\n",
    "                df.loc[(ticker, date), 'price'] = day['c']\n",
    "\n",
    "            start += timedelta(days=1830)\n",
    "\n",
    "        except Exception as e:\n",
    "            print(f\"Error fetching data for {ticker}: {e}\")\n",
    "            attempts += 1\n",
    "            if attempts >= 2:\n",
    "                print(f\"Skipping {ticker} after 2 failed attempts.\")\n",
    "                break"
   ]
  },
  {
   "cell_type": "code",
   "execution_count": null,
   "metadata": {},
   "outputs": [],
   "source": [
    "# Define the time period\n",
    "end_date = datetime.now()\n",
    "start_date = end_date - timedelta(days=15*365)\n",
    "\n",
    "# Create an empty DataFrame with MultiIndex\n",
    "columns = ['volume', 'price']\n",
    "index = pd.MultiIndex(levels=[[],[]], codes=[[],[]], names=['ticker', 'timestamp'])\n",
    "df = pd.DataFrame(columns=columns, index=index)\n",
    "\n",
    "# Define a queue for thread-safe data collection\n",
    "results_queue = Queue()\n",
    "\n",
    "# Use ThreadPoolExecutor to fetch data in parallel\n",
    "with ThreadPoolExecutor(max_workers=2) as executor:\n",
    "    executor.map(lambda ticker: fetch_data_for_ticker(ticker, start_date, end_date, df), symbols)\n",
    "\n",
    "# Process results from the queue and update the DataFrame\n",
    "while not results_queue.empty():\n",
    "    ticker, date, volume, price = results_queue.get()\n",
    "    df.loc[(ticker, date), 'volume'] = volume\n",
    "    df.loc[(ticker, date), 'price'] = price\n",
    "    \n",
    "# Save the DataFrame\n",
    "df.to_csv('historical_stock_data.csv')"
   ]
  },
  {
   "cell_type": "code",
   "execution_count": null,
   "metadata": {},
   "outputs": [],
   "source": [
    "count = 0\n",
    "for symbol in df.index.get_level_values(0).unique():\n",
    "    count += 1\n",
    "    df.loc[symbol, 'price'].plot()\n",
    "    print('Symbol:', symbol)\n",
    "    if count == 5:\n",
    "        break"
   ]
  },
  {
   "cell_type": "code",
   "execution_count": 1,
   "metadata": {},
   "outputs": [],
   "source": [
    "import os\n",
    "# change path to be in alpaca_rl_trader\n",
    "os.chdir('/home/joe/Python/tradingbot/gym/alpaca_rl_trader')"
   ]
  },
  {
   "cell_type": "code",
   "execution_count": 2,
   "metadata": {},
   "outputs": [],
   "source": [
    "import numpy as np\n",
    "import pandas as pd\n",
    "from scipy.stats import zscore\n",
    "from fracdiff import fdiff"
   ]
  },
  {
   "cell_type": "code",
   "execution_count": 3,
   "metadata": {},
   "outputs": [],
   "source": [
    "from data.data_loader import load_data, SplitOption"
   ]
  },
  {
   "cell_type": "code",
   "execution_count": 4,
   "metadata": {},
   "outputs": [
    {
     "name": "stdout",
     "output_type": "stream",
     "text": [
      "/home/joe/Python/tradingbot/gym/alpaca_rl_trader\n"
     ]
    }
   ],
   "source": [
    "symbols = ['MMM', 'AXP', 'AMGN', 'AAPL', 'BA', 'CAT', 'CVX', 'CSCO', 'KO', 'DIS', 'GS', 'HD', 'HON',\n",
    "           'IBM', 'INTC', 'JNJ', 'JPM', 'MCD', 'MRK', 'MSFT', 'NKE', 'PG', 'CRM', 'TRV', 'UNH', 'VZ', 'V', 'WMT']\n",
    "\n",
    "# Get test data\n",
    "data = load_data(\n",
    "    ratio=0.8, split_option=SplitOption.NO_SPLIT, symbols=symbols)"
   ]
  },
  {
   "cell_type": "markdown",
   "metadata": {},
   "source": []
  },
  {
   "cell_type": "code",
   "execution_count": 11,
   "metadata": {},
   "outputs": [
    {
     "data": {
      "text/plain": [
       "{'volume': array([539468356, 477115016, 573346144, ...,  48087681,  34049898,\n",
       "         42672148]),\n",
       " 'price': array([ 16.2007,  15.797 ,  16.3516, ..., 193.15  , 193.58  , 192.53  ]),\n",
       " 'dollar_volume': array([8.73976500e+09, 7.53698591e+09, 9.37512681e+09, ...,\n",
       "        9.28813559e+09, 6.59137925e+09, 8.21566865e+09]),\n",
       " 'percentage_change': array([-0.00410635, -0.02491868,  0.03510793, ...,  0.000518  ,\n",
       "         0.00222625, -0.00542411]),\n",
       " 'log_pct_change': array([-0.0041148 , -0.0252344 ,  0.0345057 , ...,  0.00051787,\n",
       "         0.00222377, -0.00543888]),\n",
       " 'f_percentage_change_zscore': array([-0.0287009 , -0.14519883,  0.19080275, ..., -0.00281591,\n",
       "         0.00674608, -0.03607716]),\n",
       " 'f_sma_diff_10': array([-0.09134706, -0.13027593,  0.00251297, ..., -0.03733708,\n",
       "        -0.02395352, -0.03169902]),\n",
       " 'f_volitility_10': array([0.45010866, 0.4520817 , 0.47193487, ..., 0.07695705, 0.0494801 ,\n",
       "        0.04919191]),\n",
       " 'f_vmar_10': array([0.15201517, 0.13436973, 0.15896858, ..., 0.16756122, 0.12666967,\n",
       "        0.16621483]),\n",
       " 'f_fractional_difference_price': array([0.1918433 , 0.17040875, 0.22371693, ..., 0.37198546, 0.37463418,\n",
       "        0.36803512])}"
      ]
     },
     "execution_count": 11,
     "metadata": {},
     "output_type": "execute_result"
    }
   ],
   "source": [
    "data['AAPL']"
   ]
  },
  {
   "cell_type": "code",
   "execution_count": 20,
   "metadata": {},
   "outputs": [
    {
     "data": {
      "text/plain": [
       "[<matplotlib.lines.Line2D at 0x7f921fc4df90>]"
      ]
     },
     "execution_count": 20,
     "metadata": {},
     "output_type": "execute_result"
    },
    {
     "data": {
      "image/png": "[encoded data removed]",
      "text/plain": [
       "<Figure size 640x480 with 1 Axes>"
      ]
     },
     "metadata": {},
     "output_type": "display_data"
    }
   ],
   "source": [
    "# plot price_data matplotlib\n",
    "import matplotlib.pyplot as plt\n",
    "plt.plot(data['AAPL']['f_fractional_difference_price'])"
   ]
  },
  {
   "cell_type": "code",
   "execution_count": null,
   "metadata": {},
   "outputs": [],
   "source": [
    "historical_data = pd.read_csv('historical_stock_data.csv', index_col=[0,1], parse_dates=True)"
   ]
  },
  {
   "cell_type": "code",
   "execution_count": null,
   "metadata": {},
   "outputs": [],
   "source": [
    "# Get test data\n",
    "test_data = load_data(\n",
    "    ratio=0.8, split_option=SplitOption.TEST_SPLIT, symbols=symbols)"
   ]
  },
  {
   "cell_type": "code",
   "execution_count": null,
   "metadata": {},
   "outputs": [],
   "source": [
    "# Calculate RSI\n",
    "def compute_rsi(data, window=14):\n",
    "    delta = data.diff()\n",
    "    gain = (delta.where(delta > 0, 0)).rolling(window=window).mean()\n",
    "    loss = (-delta.where(delta < 0, 0)).rolling(window=window).mean()\n",
    "\n",
    "    rs = gain / loss\n",
    "    rsi = (100 - (100 / (1 + rs)))/100\n",
    "    return rsi\n",
    "\n",
    "# Calculate MACD\n",
    "def compute_macd(data, span1=12, span2=26, signal=9):\n",
    "    exp1 = data.ewm(span=span1, adjust=False).mean()\n",
    "    exp2 = data.ewm(span=span2, adjust=False).mean()\n",
    "    macd = exp1 - exp2\n",
    "    signal_line = macd.ewm(span=signal, adjust=False).mean()\n",
    "    macd_h = macd - signal_line    \n",
    "    return macd_h / 5\n",
    "\n",
    "def compute_bbands(data, window=20):\n",
    "    sma = data.rolling(window=window).mean()\n",
    "    std = data.rolling(window=window).std()\n",
    "    upper = sma + 2 * std\n",
    "    lower = sma - 2 * std\n",
    "    return (upper - lower) / sma\n",
    "\n",
    "def get_weights(d, size):\n",
    "    # Vectorized computation of weights\n",
    "    ks = np.arange(1, size)\n",
    "    weights = np.cumprod(-(d - ks + 1) / ks)\n",
    "    weights = np.insert(weights, 0, 1)\n",
    "    return weights[::-1]\n",
    "\n",
    "def fractional_differencing(series, d, threshold=1e-5):\n",
    "    \"\"\"\n",
    "    Applies fractional differencing to a time series.\n",
    "\n",
    "    :param series: A pandas Series of time series data\n",
    "    :param d: Differencing order (fractional)\n",
    "    :param threshold: Threshold below which weights are considered 0 for efficiency\n",
    "    :return: A fractionally differenced series\n",
    "    \"\"\"\n",
    "    # Compute weights\n",
    "    weights = get_weights(d, len(series))\n",
    "    weights = weights[np.abs(weights) > threshold]\n",
    "    fd_series = series.copy()\n",
    "    \n",
    "    # Apply the weights to create the differenced series\n",
    "    for i in range(len(weights), len(series)):\n",
    "        window = series.iloc[i-len(weights):i]\n",
    "        if len(window) == len(weights):\n",
    "            dot_product = np.dot(weights.T, window)\n",
    "            fd_series.iloc[i] = dot_product[0] if isinstance(dot_product, np.ndarray) else dot_product\n",
    "    \n",
    "    return fd_series[len(weights):]\n",
    "\n",
    "def compute_sma_diff(data, window=20):\n",
    "    sma = np.log(data).rolling(window=window).mean()\n",
    "    return np.log(data) - sma\n",
    "\n",
    "def calculate_vmar(volume_series, window=21):\n",
    "    \"\"\"\n",
    "    Calculate the Volume Moving Average Ratio (VMAR).\n",
    "\n",
    "    Parameters:\n",
    "    volume_series (pandas.Series): Series containing volume data.\n",
    "    window (int): Window size for moving average calculation.\n",
    "\n",
    "    Returns:\n",
    "    pandas.Series: Series containing VMAR values.\n",
    "    \"\"\"\n",
    "    volume_ma = volume_series.rolling(window=window).mean()\n",
    "    vmar = volume_series / volume_ma\n",
    "    return vmar\n",
    "\n",
    "\n",
    "def calculate_vcr(volume_series):\n",
    "    \"\"\"\n",
    "    Calculate the Volume Change Rate (VCR).\n",
    "\n",
    "    Parameters:\n",
    "    volume_series (pandas.Series): Series containing volume data.\n",
    "\n",
    "    Returns:\n",
    "    pandas.Series: Series containing VCR values.\n",
    "    \"\"\"\n",
    "    vcr = volume_series.pct_change()\n",
    "    return vcr\n"
   ]
  },
  {
   "cell_type": "code",
   "execution_count": null,
   "metadata": {},
   "outputs": [],
   "source": [
    "# Calculate normalized dollar volume using z-score\n",
    "historical_data['dollar_volume'] = historical_data['price'] * historical_data['volume']\n",
    "\n",
    "# Calculate percentage change\n",
    "historical_data['percentage_change'] = historical_data.groupby(level=0)['price'].pct_change()\n",
    "historical_data['log_pct_change'] = np.log1p(historical_data['percentage_change'])\n",
    "\n",
    "# # Calculate RSI\n",
    "# historical_data['f_rsi'] = historical_data.groupby(level=0)['price'].transform(lambda x: compute_rsi(x))\n",
    "\n",
    "# # Calculate MACD\n",
    "# historical_data['f_macd'] = historical_data.groupby(level=0)['price'].transform(lambda x: compute_macd(np.log(x))) * 200\n",
    "\n",
    "# # Calculate Bollinger Bands\n",
    "# historical_data['f_bbands'] = historical_data.groupby(level=0)['price'].transform(lambda x: compute_bbands(np.log(x))) * 10\n",
    "\n",
    "# # compare dollar volume accrross different stocks\n",
    "# historical_data['f_dollar_volume_zscore'] = historical_data.groupby(level=0)['dollar_volume'].transform(lambda x: zscore(x, nan_policy='omit')) / 10\n",
    "\n",
    "# compare percentage change across different stocks\n",
    "historical_data['f_percentage_change_zscore'] = historical_data.groupby(level=0)['percentage_change'].transform(lambda x: zscore(x, nan_policy='omit')) / 10\n",
    "\n",
    "# Calculate simple moving average difference\n",
    "historical_data['f_sma_diff_10'] = historical_data.groupby(level=0)['price'].transform(lambda x: compute_sma_diff(x, window=10)) * 3\n",
    "\n",
    "# Calculate Volitility\n",
    "historical_data['f_volitility_10'] = historical_data.groupby(level=0)['log_pct_change'].transform(lambda x: x.rolling(window=10).std()) * 10\n",
    "\n",
    "# Calculate Volume Moving Average Ratio\n",
    "historical_data['f_vmar_10'] = historical_data.groupby(level=0)['volume'].transform(lambda x: calculate_vmar(x, window=10)) / 5"
   ]
  },
  {
   "cell_type": "code",
   "execution_count": null,
   "metadata": {},
   "outputs": [],
   "source": [
    "# # Example usage\n",
    "d = 0.3  # Degree of differencing\n",
    "historical_data['fractional_difference_volume'] = fdiff(np.log(historical_data['dollar_volume']), d)"
   ]
  },
  {
   "cell_type": "code",
   "execution_count": null,
   "metadata": {},
   "outputs": [],
   "source": [
    "# Example usage\n",
    "d = 0.7  # Degree of differencing\n",
    "historical_data['fractional_difference_price'] = fdiff(np.log(historical_data['price']), d)"
   ]
  },
  {
   "cell_type": "code",
   "execution_count": null,
   "metadata": {},
   "outputs": [],
   "source": [
    "historical_data"
   ]
  },
  {
   "cell_type": "code",
   "execution_count": null,
   "metadata": {},
   "outputs": [],
   "source": [
    "x = historical_data.columns"
   ]
  },
  {
   "cell_type": "code",
   "execution_count": null,
   "metadata": {},
   "outputs": [],
   "source": [
    "x"
   ]
  },
  {
   "cell_type": "code",
   "execution_count": null,
   "metadata": {},
   "outputs": [],
   "source": [
    "historical_data.loc['MMM', 'f_vmar_10'][-300:].plot()"
   ]
  },
  {
   "cell_type": "code",
   "execution_count": null,
   "metadata": {},
   "outputs": [],
   "source": [
    "historical_data.loc['MMM', 'f_sma_diff_10'][-300:].plot()"
   ]
  },
  {
   "cell_type": "code",
   "execution_count": null,
   "metadata": {},
   "outputs": [],
   "source": [
    "count = 0\n",
    "for symbol in historical_data.index.get_level_values(0).unique():\n",
    "    count += 1\n",
    "    historical_data.loc[symbol, 'f_volitility_10'][-3000:].plot()\n",
    "    if count == 30:\n",
    "        break"
   ]
  },
  {
   "cell_type": "code",
   "execution_count": null,
   "metadata": {},
   "outputs": [],
   "source": [
    "# Get the first ticker key from the dictionary\n",
    "length_of_data = len(historical_data['price']['MMM'])"
   ]
  },
  {
   "cell_type": "code",
   "execution_count": null,
   "metadata": {},
   "outputs": [],
   "source": [
    "length_of_data"
   ]
  },
  {
   "cell_type": "code",
   "execution_count": null,
   "metadata": {},
   "outputs": [],
   "source": [
    "# List to hold symbols to be dropped\n",
    "symbols_to_drop = []\n",
    "\n",
    "# Iterate over each symbol and check the length of its data\n",
    "for symbol in historical_data.index.get_level_values(0).unique():\n",
    "    if len(historical_data.loc[symbol]) < length_of_data:\n",
    "        symbols_to_drop.append(symbol)\n",
    "        print(f\"Dropping Symbol: {symbol}, Length of data: {len(historical_data.loc[symbol])}\")"
   ]
  },
  {
   "cell_type": "code",
   "execution_count": null,
   "metadata": {},
   "outputs": [],
   "source": [
    "# Drop the symbols that do not meet the threshold\n",
    "historical_data = historical_data.drop(symbols_to_drop, level='ticker')"
   ]
  },
  {
   "cell_type": "code",
   "execution_count": null,
   "metadata": {},
   "outputs": [],
   "source": [
    "historical_data.dropna(inplace=True)\n",
    "# Save the DataFrame"
   ]
  },
  {
   "cell_type": "code",
   "execution_count": null,
   "metadata": {},
   "outputs": [],
   "source": [
    "import seaborn as sns\n",
    "import matplotlib.pyplot as plt\n",
    "\n",
    "# Filter columns that start with 'f_'\n",
    "f_columns = [col for col in historical_data.columns if col.startswith('f_')]\n",
    "\n",
    "# Calculate the correlation matrix for only those columns\n",
    "correlation_matrix = historical_data[f_columns].corr()\n",
    "\n",
    "# Plot the heatmap\n",
    "plt.figure(figsize=(14, 12))  # Set the size of the figure\n",
    "sns.heatmap(correlation_matrix, annot=True, cmap=\"coolwarm\")\n",
    "plt.show()\n"
   ]
  },
  {
   "cell_type": "code",
   "execution_count": null,
   "metadata": {},
   "outputs": [],
   "source": [
    "# Set a threshold for high correlation\n",
    "threshold = 0.5\n",
    "\n",
    "# Find and collect highly correlated pairs\n",
    "to_drop = set()\n",
    "for i in range(len(correlation_matrix.columns)):\n",
    "    for j in range(i+1, len(correlation_matrix.columns)):\n",
    "        if abs(correlation_matrix.iloc[i, j]) > threshold:\n",
    "            # Get the name of the feature to drop (you could also use other logic to choose which one to drop)\n",
    "            colname = correlation_matrix.columns[i]\n",
    "            to_drop.add(colname)"
   ]
  },
  {
   "cell_type": "code",
   "execution_count": null,
   "metadata": {},
   "outputs": [],
   "source": [
    "to_drop"
   ]
  },
  {
   "cell_type": "code",
   "execution_count": null,
   "metadata": {},
   "outputs": [],
   "source": [
    "historical_data.to_csv('historical_stock_data_feat.csv')"
   ]
  },
  {
   "cell_type": "code",
   "execution_count": null,
   "metadata": {},
   "outputs": [],
   "source": [
    "historical_data.head()"
   ]
  },
  {
   "cell_type": "code",
   "execution_count": null,
   "metadata": {},
   "outputs": [],
   "source": [
    "historical_data['log_pct_change'].unstack(level=0).cumsum().apply(np.exp).tail()"
   ]
  },
  {
   "cell_type": "code",
   "execution_count": null,
   "metadata": {},
   "outputs": [],
   "source": [
    "for symbol in historical_data.index.get_level_values(0).unique():\n",
    "    historical_data.loc[symbol,'log_pct_change'].cumsum().plot()"
   ]
  },
  {
   "cell_type": "code",
   "execution_count": null,
   "metadata": {},
   "outputs": [],
   "source": [
    "# Step 1: Calculate cumulative log returns for each symbol\n",
    "historical_data['cumulative_log_return'] = historical_data.groupby(level=0)['log_pct_change'].cumsum()\n",
    "\n",
    "# Step 2: Get the final cumulative log return for each symbol\n",
    "final_cumulative_log_returns = historical_data.groupby(level=0)['cumulative_log_return'].last()\n",
    "\n",
    "# Step 3: Compute the mean of these final values\n",
    "average_performance = final_cumulative_log_returns.mean()\n",
    "\n",
    "# Optionally, convert this to a percentage\n",
    "average_performance_percentage = np.exp(average_performance) - 1\n",
    "\n",
    "print(f\"Average Performance: {average_performance_percentage * 100:.2f}%\")"
   ]
  },
  {
   "cell_type": "markdown",
   "metadata": {},
   "source": [
    "2009-01-07\n",
    "2023-12-15"
   ]
  },
  {
   "cell_type": "code",
   "execution_count": null,
   "metadata": {},
   "outputs": [],
   "source": [
    "def normalize_data_log_percentage_range(data):\n",
    "    # Calculate the log of the data to avoid repeating this operation\n",
    "    log_data = np.log(data)\n",
    "\n",
    "    # Find the log of min and max values\n",
    "    log_min_data = np.min(log_data, axis=1, keepdims=True)\n",
    "    log_max_data = np.max(log_data, axis=1, keepdims=True)\n",
    "\n",
    "    # Calculate the log scale and middle value\n",
    "    log_scale = log_max_data - log_min_data\n",
    "    middle = (log_max_data + log_min_data) / 2\n",
    "\n",
    "    # Normalize the data\n",
    "    # Scale it to have mean as middle and range as log_scale\n",
    "    normalized_data = (log_data - middle) / log_scale\n",
    "\n",
    "    return normalized_data"
   ]
  },
  {
   "cell_type": "code",
   "execution_count": null,
   "metadata": {},
   "outputs": [],
   "source": [
    "x = np.array([historical_data['price']['EQIX'].iloc[10:20]])"
   ]
  },
  {
   "cell_type": "code",
   "execution_count": null,
   "metadata": {},
   "outputs": [],
   "source": [
    "x.shape"
   ]
  },
  {
   "cell_type": "code",
   "execution_count": null,
   "metadata": {},
   "outputs": [],
   "source": [
    "price_data = normalize_data_log_percentage_range(x)"
   ]
  },
  {
   "cell_type": "code",
   "execution_count": null,
   "metadata": {},
   "outputs": [],
   "source": [
    "# plot price_data matplotlib\n",
    "import matplotlib.pyplot as plt\n",
    "plt.plot(price_data[0])\n",
    "plt.plot(price_data[1])\n",
    "plt.plot(price_data[2])"
   ]
  },
  {
   "cell_type": "code",
   "execution_count": null,
   "metadata": {},
   "outputs": [],
   "source": [
    "import math\n",
    "benchmark = 201\n",
    "\n",
    "simple_return_benchmark = (\n",
    "    math.exp(abs(benchmark)) - 1) * 100 * np.sign(benchmark)"
   ]
  },
  {
   "cell_type": "code",
   "execution_count": null,
   "metadata": {},
   "outputs": [],
   "source": [
    "simple_return_benchmark"
   ]
  },
  {
   "cell_type": "code",
   "execution_count": null,
   "metadata": {},
   "outputs": [],
   "source": [
    "for i in range(5):\n",
    "    print(i-5)"
   ]
  },
  {
   "cell_type": "code",
   "execution_count": null,
   "metadata": {},
   "outputs": [],
   "source": [
    "x = [1,2,3,4,5,6,7,8,9,10]"
   ]
  },
  {
   "cell_type": "code",
   "execution_count": null,
   "metadata": {},
   "outputs": [],
   "source": []
  }
 ],
 "metadata": {
  "kernelspec": {
   "display_name": "tradeEnv",
   "language": "python",
   "name": "python3"
  },
  "language_info": {
   "codemirror_mode": {
    "name": "ipython",
    "version": 3
   },
   "file_extension": ".py",
   "mimetype": "text/x-python",
   "name": "python",
   "nbconvert_exporter": "python",
   "pygments_lexer": "ipython3",
   "version": "3.11.7"
  }
 },
 "nbformat": 4,
 "nbformat_minor": 2
}
