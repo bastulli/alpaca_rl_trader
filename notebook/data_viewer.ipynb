{
 "cells": [
  {
   "cell_type": "code",
   "execution_count": 1,
   "metadata": {},
   "outputs": [],
   "source": [
    "from torchviz import make_dot\n",
    "from gymnasium import spaces\n",
    "import numpy as np\n",
    "import torch\n",
    "from neural_network import CustomNetwork"
   ]
  },
  {
   "cell_type": "code",
   "execution_count": 2,
   "metadata": {},
   "outputs": [
    {
     "name": "stdout",
     "output_type": "stream",
     "text": [
      "lstm_out.shape: torch.Size([32, 466, 5])\n",
      "Input shapes:\n",
      "unrealized_pl: torch.Size([32, 466])\n",
      "holdings: torch.Size([32, 466])\n",
      "price_data: torch.Size([32, 466])\n",
      "dollar_volume_zscore: torch.Size([32, 466])\n",
      "percentage_change_zscore: torch.Size([32, 466])\n",
      "\n",
      "Output shape:\n",
      "torch.Size([32, 512])\n"
     ]
    }
   ],
   "source": [
    "\n",
    "# Hyperparameters for example model\n",
    "num_stock_symbols = 466\n",
    "learning_rate = 0.0001\n",
    "batch_size = 32\n",
    "\n",
    "# Hyperparameters for custom model\n",
    "denseLayerSize = 512\n",
    "\n",
    "# Define observation space\n",
    "observation_space = spaces.Dict({\n",
    "    \"unrealized_pl\": spaces.Box(low=-1, high=1, shape=(num_stock_symbols,), dtype=np.float32),\n",
    "    \"holdings\": spaces.Box(low=0, high=1, shape=(num_stock_symbols,), dtype=np.float32),\n",
    "    \"price_data\": spaces.Box(low=-np.inf, high=np.inf, shape=(num_stock_symbols,), dtype=np.float32),\n",
    "    \"dollar_volume_zscore\": spaces.Box(low=-np.inf, high=np.inf, shape=(num_stock_symbols,), dtype=np.float32),\n",
    "    \"percentage_change_zscore\": spaces.Box(low=-np.inf, high=np.inf, shape=(num_stock_symbols,), dtype=np.float32),\n",
    "})\n",
    "\n",
    "# Create the Neural Network\n",
    "modelTemp = CustomNetwork(\n",
    "    observation_space=observation_space, features_dim=denseLayerSize)\n",
    "\n",
    "# Create a mock observation dictionary\n",
    "mock_observation = {\n",
    "    \"unrealized_pl\": torch.rand(batch_size, num_stock_symbols),\n",
    "    \"holdings\": torch.rand(batch_size, num_stock_symbols),\n",
    "    \"price_data\": torch.rand(batch_size, num_stock_symbols),\n",
    "    \"dollar_volume_zscore\": torch.rand(batch_size, num_stock_symbols),\n",
    "    \"percentage_change_zscore\": torch.rand(batch_size, num_stock_symbols),\n",
    "}\n",
    "\n",
    "# Forward pass through the model with mock observation\n",
    "output = modelTemp(mock_observation)\n",
    "\n",
    "# Print shapes and the model\n",
    "print(\"Input shapes:\")\n",
    "for key, value in mock_observation.items():\n",
    "    print(f\"{key}: {value.shape}\")\n",
    "print(\"\\nOutput shape:\")\n",
    "print(output.shape)"
   ]
  },
  {
   "cell_type": "code",
   "execution_count": 3,
   "metadata": {},
   "outputs": [
    {
     "name": "stdout",
     "output_type": "stream",
     "text": [
      "\n",
      "Model output:\n",
      "tensor([[0.0022, 0.0023, 0.0017,  ..., 0.0018, 0.0020, 0.0020],\n",
      "        [0.0022, 0.0023, 0.0017,  ..., 0.0019, 0.0020, 0.0020],\n",
      "        [0.0021, 0.0023, 0.0017,  ..., 0.0019, 0.0020, 0.0020],\n",
      "        ...,\n",
      "        [0.0022, 0.0022, 0.0016,  ..., 0.0018, 0.0020, 0.0020],\n",
      "        [0.0022, 0.0024, 0.0017,  ..., 0.0019, 0.0020, 0.0020],\n",
      "        [0.0023, 0.0023, 0.0017,  ..., 0.0019, 0.0020, 0.0020]],\n",
      "       grad_fn=<SoftmaxBackward0>)\n",
      "\n",
      "Model architecture:\n",
      "CustomNetwork(\n",
      "  (lstm): LSTM(5, 5, batch_first=True)\n",
      "  (fc): Linear(in_features=2330, out_features=512, bias=True)\n",
      ")\n"
     ]
    }
   ],
   "source": [
    "print(\"\\nModel output:\")\n",
    "print(output)\n",
    "print(\"\\nModel architecture:\")\n",
    "print(modelTemp)"
   ]
  },
  {
   "cell_type": "code",
   "execution_count": null,
   "metadata": {},
   "outputs": [],
   "source": []
  },
  {
   "cell_type": "code",
   "execution_count": null,
   "metadata": {},
   "outputs": [],
   "source": [
    "make_dot(output.mean(), params=dict(modelTemp.named_parameters()))"
   ]
  },
  {
   "cell_type": "code",
   "execution_count": null,
   "metadata": {},
   "outputs": [],
   "source": []
  }
 ],
 "metadata": {
  "kernelspec": {
   "display_name": "tradeEnv",
   "language": "python",
   "name": "python3"
  },
  "language_info": {
   "codemirror_mode": {
    "name": "ipython",
    "version": 3
   },
   "file_extension": ".py",
   "mimetype": "text/x-python",
   "name": "python",
   "nbconvert_exporter": "python",
   "pygments_lexer": "ipython3",
   "version": "3.11.6"
  }
 },
 "nbformat": 4,
 "nbformat_minor": 2
}
