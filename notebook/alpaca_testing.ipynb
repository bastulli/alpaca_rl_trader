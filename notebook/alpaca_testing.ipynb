{
 "cells": [
  {
   "cell_type": "code",
   "execution_count": 1,
   "metadata": {},
   "outputs": [],
   "source": [
    "from datetime import datetime, timedelta\n",
    "import sqlite3\n",
    "\n",
    "from alpaca.trading.client import TradingClient\n",
    "from alpaca.trading.requests import GetAssetsRequest\n",
    "from alpaca.trading.enums import AssetClass\n",
    "\n",
    "from alpaca.data import StockHistoricalDataClient\n",
    "from alpaca.data.requests import StockLatestQuoteRequest, StockBarsRequest\n",
    "from alpaca.data.timeframe import TimeFrame\n",
    "\n",
    "from alpaca.trading.client import TradingClient\n",
    "from alpaca.trading.requests import MarketOrderRequest, TrailingStopOrderRequest\n",
    "from alpaca.trading.enums import OrderSide, TimeInForce, OrderType\n",
    "import numpy as np\n",
    "\n",
    "from polygon import ReferenceClient\n",
    "import pandas as pd\n"
   ]
  },
  {
   "cell_type": "code",
   "execution_count": 2,
   "metadata": {},
   "outputs": [],
   "source": [
    "\n",
    "\n",
    "class LiveTrader:\n",
    "    def __init__(self, api_key, secret_key, polygon_key):\n",
    "        self.trading_client = TradingClient(api_key, secret_key)\n",
    "        self.stock_client = StockHistoricalDataClient(api_key, secret_key)\n",
    "        self.polygon_client = ReferenceClient(polygon_key)\n",
    "        self._init_db()  # Initialize database\n",
    "\n",
    "    def _init_db(self):\n",
    "        self.conn = sqlite3.connect('trading_data.db')\n",
    "        cursor = self.conn.cursor()\n",
    "        cursor.execute('''CREATE TABLE IF NOT EXISTS framestack (\n",
    "                          id INTEGER PRIMARY KEY AUTOINCREMENT,\n",
    "                          obs BLOB)''')\n",
    "        cursor.execute('''CREATE TABLE IF NOT EXISTS account_info (\n",
    "                          id INTEGER PRIMARY KEY AUTOINCREMENT,\n",
    "                          balance REAL,\n",
    "                          trades TEXT)''')\n",
    "        self.conn.commit()\n",
    "\n",
    "    def convert_cyrpto_ticker_symbol(self, symbol):\n",
    "        if 'X:' in symbol:\n",
    "            # Remove the 'X:' prefix and replace 'USD' with '/USD'\n",
    "            return symbol.replace('X:', '')\n",
    "        else:\n",
    "            return symbol\n",
    "\n",
    "    def buy(self, symbol, qty, price=None):\n",
    "        symbol = self.convert_cyrpto_ticker_symbol(symbol)\n",
    "\n",
    "        print(f\"Buying {qty:.2f} shares of {symbol} at {price:.2f}\")\n",
    "        # preparing orders\n",
    "        market_order_data = MarketOrderRequest(\n",
    "            symbol=symbol,\n",
    "            qty=qty,\n",
    "            side=OrderSide.BUY,\n",
    "            time_in_force=TimeInForce.GTC\n",
    "        )\n",
    "\n",
    "        # Market order\n",
    "        return self.trading_client.submit_order(\n",
    "            order_data=market_order_data\n",
    "        )\n",
    "\n",
    "    def sell(self, symbol, qty, price=None, liquidate=False):\n",
    "        symbol = self.convert_cyrpto_ticker_symbol(symbol)\n",
    "\n",
    "        print(f\"Selling {qty:.2f} shares of {symbol} at {price:.2f}\")\n",
    "\n",
    "        if liquidate:\n",
    "\n",
    "            print(f'{symbol} being fully liquidated')\n",
    "\n",
    "            pos = self.get_all_positions()\n",
    "\n",
    "            qty = float(pos[symbol]['qty'])\n",
    "\n",
    "            # preparing orders\n",
    "            market_order_data = MarketOrderRequest(\n",
    "                symbol=symbol,\n",
    "                qty=qty,\n",
    "                side=OrderSide.SELL,\n",
    "                time_in_force=TimeInForce.GTC\n",
    "            )\n",
    "\n",
    "            # Market order\n",
    "            return self.trading_client.submit_order(\n",
    "                order_data=market_order_data\n",
    "            )\n",
    "        else:\n",
    "            # preparing orders\n",
    "            market_order_data = MarketOrderRequest(\n",
    "                symbol=symbol,\n",
    "                qty=qty,\n",
    "                side=OrderSide.SELL,\n",
    "                time_in_force=TimeInForce.GTC\n",
    "            )\n",
    "\n",
    "            # Market order\n",
    "            return self.trading_client.submit_order(\n",
    "                order_data=market_order_data\n",
    "            )\n",
    "\n",
    "    def get_all_positions(self):\n",
    "        return self.trading_client.get_all_positions()\n",
    "\n",
    "    def get_account(self):\n",
    "        return self.trading_client.get_account()\n"
   ]
  },
  {
   "cell_type": "code",
   "execution_count": 3,
   "metadata": {},
   "outputs": [],
   "source": [
    "import os\n",
    "from dotenv import load_dotenv"
   ]
  },
  {
   "cell_type": "code",
   "execution_count": 6,
   "metadata": {},
   "outputs": [
    {
     "data": {
      "text/plain": [
       "True"
      ]
     },
     "execution_count": 6,
     "metadata": {},
     "output_type": "execute_result"
    }
   ],
   "source": [
    "# Load environment variables from .env file\n",
    "load_dotenv('../keys.env')\n"
   ]
  },
  {
   "cell_type": "code",
   "execution_count": 7,
   "metadata": {},
   "outputs": [],
   "source": [
    "# API keys\n",
    "api_key = os.environ.get(\"APCA_API_KEY_ID\")\n",
    "secret_key = os.environ.get(\"APCA_API_SECRET_KEY\")\n",
    "polygon_key = os.environ.get(\"POLYGON_API_KEY\")"
   ]
  },
  {
   "cell_type": "code",
   "execution_count": 8,
   "metadata": {},
   "outputs": [],
   "source": [
    "# Initialize LiveTrader\n",
    "live_trader = LiveTrader(api_key, secret_key, polygon_key)"
   ]
  },
  {
   "cell_type": "code",
   "execution_count": 10,
   "metadata": {},
   "outputs": [],
   "source": [
    "x = live_trader.get_all_positions()"
   ]
  },
  {
   "cell_type": "code",
   "execution_count": 22,
   "metadata": {},
   "outputs": [
    {
     "name": "stdout",
     "output_type": "stream",
     "text": [
      "10.345040253\n"
     ]
    }
   ],
   "source": [
    "# iterate a list of dictionaries and find the one with the matching key value\n",
    "for i in x:\n",
    "    if i.symbol == 'BCHUSD':\n",
    "        print(i.qty_available)"
   ]
  },
  {
   "cell_type": "code",
   "execution_count": null,
   "metadata": {},
   "outputs": [],
   "source": []
  }
 ],
 "metadata": {
  "kernelspec": {
   "display_name": "trading_env",
   "language": "python",
   "name": "python3"
  },
  "language_info": {
   "codemirror_mode": {
    "name": "ipython",
    "version": 3
   },
   "file_extension": ".py",
   "mimetype": "text/x-python",
   "name": "python",
   "nbconvert_exporter": "python",
   "pygments_lexer": "ipython3",
   "version": "3.11.5"
  }
 },
 "nbformat": 4,
 "nbformat_minor": 2
}
