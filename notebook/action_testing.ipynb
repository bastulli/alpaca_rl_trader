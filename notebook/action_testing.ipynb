{
 "cells": [
  {
   "cell_type": "code",
   "execution_count": 65,
   "metadata": {},
   "outputs": [],
   "source": [
    "import numpy as np"
   ]
  },
  {
   "cell_type": "code",
   "execution_count": 76,
   "metadata": {},
   "outputs": [],
   "source": [
    "actions = np.array([0.37143266, 0.15378678, 0.46550912, 0.15805447, 0.06253012, 0.90064555,\n",
    " 0.        , 0.654408,   0.26650083 ,0.         ,0.29430538 ,0.13390543,\n",
    " 0.701032  , 0.7477346 , 0.       ,  1.   ,      0.7793279 , 0.8416198,\n",
    " 0.19586198, 0.2867668 , 0.      ,   0.     ,    0.570027  , 0.,\n",
    " 0.3929516 , 0.      ,   0.11664659 ,0.        ])"
   ]
  },
  {
   "cell_type": "code",
   "execution_count": 70,
   "metadata": {},
   "outputs": [],
   "source": [
    "actions = np.array([0, 1, 0, 1, 0, 0])"
   ]
  },
  {
   "cell_type": "code",
   "execution_count": 71,
   "metadata": {},
   "outputs": [
    {
     "data": {
      "text/plain": [
       "array([0, 1, 0, 1, 0, 0])"
      ]
     },
     "execution_count": 71,
     "metadata": {},
     "output_type": "execute_result"
    }
   ],
   "source": [
    "actions"
   ]
  },
  {
   "cell_type": "code",
   "execution_count": 72,
   "metadata": {},
   "outputs": [],
   "source": [
    "def normalize_action_vector(action_vector):\n",
    "    # Find the maximum value in the action vector\n",
    "    max_value = np.max(action_vector)\n",
    "\n",
    "    # Set elements less than 5% of the max value to 0\n",
    "    action_vector = np.where(action_vector >= 0.05 * max_value, action_vector, 0)\n",
    "\n",
    "    # Calculate the sum of the non-zero elements\n",
    "    non_zero_sum = np.sum(action_vector)\n",
    "\n",
    "    # Avoid division by zero\n",
    "    if non_zero_sum == 0:\n",
    "        return action_vector\n",
    "\n",
    "    # Normalize non-zero elements while maintaining their ratio and adjusting to the max value\n",
    "    normalized_action_vector = action_vector / non_zero_sum * max_value\n",
    "\n",
    "    return normalized_action_vector\n",
    "\n",
    "\n",
    "def bin_action_values(action_vector):\n",
    "    # Define the bin edges\n",
    "    bins = np.arange(0, 1.1, 0.1)  # Creates an array [0.0, 0.1, 0.2, ..., 1.0]\n",
    "\n",
    "    # Reshape action_vector for broadcasting\n",
    "    action_vector_reshaped = action_vector.reshape(-1, 1)\n",
    "\n",
    "    # Calculate the absolute differences between each action value and bin edge\n",
    "    abs_diff = np.abs(action_vector_reshaped - bins)\n",
    "\n",
    "    # Find the indices of the closest bin edge for each action value\n",
    "    closest_bin_indices = np.argmin(abs_diff, axis=1)\n",
    "\n",
    "    # Assign the closest bin value\n",
    "    binned_action_vector = bins[closest_bin_indices]\n",
    "\n",
    "    return binned_action_vector"
   ]
  },
  {
   "cell_type": "code",
   "execution_count": 78,
   "metadata": {},
   "outputs": [
    {
     "data": {
      "text/plain": [
       "array([0.04301075, 0.02150538, 0.05376344, 0.02150538, 0.01075269,\n",
       "       0.09677419, 0.        , 0.07526882, 0.03225806, 0.        ,\n",
       "       0.03225806, 0.01075269, 0.07526882, 0.07526882, 0.        ,\n",
       "       0.10752688, 0.08602151, 0.08602151, 0.02150538, 0.03225806,\n",
       "       0.        , 0.        , 0.06451613, 0.        , 0.04301075,\n",
       "       0.        , 0.01075269, 0.        ])"
      ]
     },
     "execution_count": 78,
     "metadata": {},
     "output_type": "execute_result"
    }
   ],
   "source": [
    "actions = normalize_action_vector(actions)\n",
    "actions"
   ]
  },
  {
   "cell_type": "code",
   "execution_count": 77,
   "metadata": {},
   "outputs": [
    {
     "data": {
      "text/plain": [
       "array([0.4, 0.2, 0.5, 0.2, 0.1, 0.9, 0. , 0.7, 0.3, 0. , 0.3, 0.1, 0.7,\n",
       "       0.7, 0. , 1. , 0.8, 0.8, 0.2, 0.3, 0. , 0. , 0.6, 0. , 0.4, 0. ,\n",
       "       0.1, 0. ])"
      ]
     },
     "execution_count": 77,
     "metadata": {},
     "output_type": "execute_result"
    }
   ],
   "source": [
    "actions = bin_action_values(actions)\n",
    "actions"
   ]
  },
  {
   "cell_type": "code",
   "execution_count": null,
   "metadata": {},
   "outputs": [],
   "source": []
  }
 ],
 "metadata": {
  "kernelspec": {
   "display_name": "tradeEnv",
   "language": "python",
   "name": "python3"
  },
  "language_info": {
   "codemirror_mode": {
    "name": "ipython",
    "version": 3
   },
   "file_extension": ".py",
   "mimetype": "text/x-python",
   "name": "python",
   "nbconvert_exporter": "python",
   "pygments_lexer": "ipython3",
   "version": "3.11.6"
  }
 },
 "nbformat": 4,
 "nbformat_minor": 2
}
